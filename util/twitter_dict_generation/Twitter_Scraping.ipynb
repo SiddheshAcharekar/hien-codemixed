{
 "cells": [
  {
   "cell_type": "code",
   "execution_count": 1,
   "metadata": {},
   "outputs": [],
   "source": [
    "import twitter\n",
    "import nltk"
   ]
  },
  {
   "cell_type": "code",
   "execution_count": 2,
   "metadata": {},
   "outputs": [],
   "source": [
    "api = twitter.Api(consumer_key='xyz',\n",
    "  consumer_secret='abc',\n",
    "  access_token_key='127801049-def',\n",
    "  access_token_secret='ghi')"
   ]
  },
  {
   "cell_type": "code",
   "execution_count": 3,
   "metadata": {},
   "outputs": [],
   "source": [
    "twitter_handles=['Tom_Slater_', 'MattSingh_', 'asabenn', 'robfordmancs', 'LadPolitics', 'samgadjones', 'PaulbernalUK']"
   ]
  },
  {
   "cell_type": "code",
   "execution_count": 4,
   "metadata": {},
   "outputs": [],
   "source": [
    "def getTweets(username):\n",
    "        timeline = api.GetUserTimeline(screen_name=username, count=1000)\n",
    "        tweets = [i.AsDict() for i in timeline]\n",
    "        return tweets"
   ]
  },
  {
   "cell_type": "code",
   "execution_count": 5,
   "metadata": {},
   "outputs": [],
   "source": [
    "# tweets = getTweets('Tom_Slater_')\n",
    "tweets = [getTweets(handle) for handle in twitter_handles]"
   ]
  },
  {
   "cell_type": "code",
   "execution_count": 6,
   "metadata": {},
   "outputs": [],
   "source": [
    "tokens = []\n",
    "for journalist in range(len(tweets)):\n",
    "    for t in tweets[journalist]:\n",
    "        tokens += nltk.word_tokenize(t['text'])"
   ]
  },
  {
   "cell_type": "code",
   "execution_count": 7,
   "metadata": {},
   "outputs": [],
   "source": [
    "from collections import defaultdict\n",
    "word_dict = defaultdict(int)\n",
    "def create_dict():\n",
    "    for entry in tokens:\n",
    "        if entry not in word_dict:\n",
    "            word_dict[entry] = 1\n",
    "        else:\n",
    "            word_dict.update({entry: word_dict[entry]+1})"
   ]
  },
  {
   "cell_type": "code",
   "execution_count": 8,
   "metadata": {},
   "outputs": [],
   "source": [
    "create_dict()"
   ]
  },
  {
   "cell_type": "code",
   "execution_count": 11,
   "metadata": {},
   "outputs": [],
   "source": [
    "import pickle\n",
    "with open('dictionary_twitter.txt', 'wb') as f:\n",
    "       pickle.dump(word_dict,f)"
   ]
  }
 ],
 "metadata": {
  "kernelspec": {
   "display_name": "Python 3",
   "language": "python",
   "name": "python3"
  },
  "language_info": {
   "codemirror_mode": {
    "name": "ipython",
    "version": 3
   },
   "file_extension": ".py",
   "mimetype": "text/x-python",
   "name": "python",
   "nbconvert_exporter": "python",
   "pygments_lexer": "ipython3",
   "version": "3.6.5"
  }
 },
 "nbformat": 4,
 "nbformat_minor": 2
}
