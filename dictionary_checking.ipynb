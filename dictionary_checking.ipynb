{
 "cells": [
  {
   "cell_type": "markdown",
   "metadata": {},
   "source": [
    "# Unsupervised Dictionary Methods"
   ]
  },
  {
   "cell_type": "code",
   "execution_count": 142,
   "metadata": {
    "ExecuteTime": {
     "end_time": "2018-11-01T02:07:51.661621Z",
     "start_time": "2018-11-01T02:07:51.643755Z"
    }
   },
   "outputs": [],
   "source": [
    "import pandas as pd\n",
    "import numpy as np\n",
    "import json\n",
    "from nltk import *\n",
    "import string\n",
    "import pickle\n",
    "import urllib\n",
    "import re\n",
    "from nltk.util import ngrams\n",
    "from nltk.corpus import wordnet\n",
    "from sklearn.model_selection import train_test_split\n",
    "import collections"
   ]
  },
  {
   "cell_type": "code",
   "execution_count": 37,
   "metadata": {
    "ExecuteTime": {
     "end_time": "2018-11-01T02:07:51.906694Z",
     "start_time": "2018-11-01T02:07:51.806973Z"
    }
   },
   "outputs": [],
   "source": [
    "# Load our data and try\n",
    "with open('modified_data/just_tags.txt', 'rb') as f:\n",
    "    just_tags = pickle.load(f)\n",
    "    \n",
    "with open('modified_data/just_words.txt', 'rb') as f:\n",
    "    just_words = pickle.load(f)"
   ]
  },
  {
   "cell_type": "code",
   "execution_count": 38,
   "metadata": {
    "ExecuteTime": {
     "end_time": "2018-11-01T02:07:55.415894Z",
     "start_time": "2018-11-01T02:07:55.265700Z"
    }
   },
   "outputs": [],
   "source": [
    "words_train, words_test, tags_train, tags_test = train_test_split(just_words, just_tags, random_state = 42, test_size = 0.2)"
   ]
  },
  {
   "cell_type": "code",
   "execution_count": 39,
   "metadata": {
    "ExecuteTime": {
     "end_time": "2018-11-01T02:07:55.885684Z",
     "start_time": "2018-11-01T02:07:55.808697Z"
    }
   },
   "outputs": [],
   "source": [
    "# Make hindi dictionary from training data becuase theres no phonetically typed hindi dictionary anywhere\n",
    "hin_dict = [w for i, w in enumerate(words_train) if tags_train[i] == 'HI']"
   ]
  },
  {
   "cell_type": "code",
   "execution_count": 40,
   "metadata": {
    "ExecuteTime": {
     "end_time": "2018-11-01T02:07:57.401237Z",
     "start_time": "2018-11-01T02:07:57.389690Z"
    }
   },
   "outputs": [
    {
     "name": "stdout",
     "output_type": "stream",
     "text": [
      "ENGLISH\n"
     ]
    }
   ],
   "source": [
    "# How wordnets dictionary works:\n",
    "# Case insensitive so its good for our data\n",
    "if wordnet.synsets('glass'):\n",
    "    print('ENGLISH')\n",
    "else:\n",
    "    print('NOT ENGLISH')"
   ]
  },
  {
   "cell_type": "code",
   "execution_count": 41,
   "metadata": {
    "ExecuteTime": {
     "end_time": "2018-11-01T02:08:06.197557Z",
     "start_time": "2018-11-01T02:08:06.016737Z"
    }
   },
   "outputs": [],
   "source": [
    "?wordnet.synsets"
   ]
  },
  {
   "cell_type": "code",
   "execution_count": 10,
   "metadata": {
    "ExecuteTime": {
     "end_time": "2018-10-31T20:30:11.453309Z",
     "start_time": "2018-10-31T20:30:11.438027Z"
    }
   },
   "outputs": [
    {
     "data": {
      "text/plain": [
       "False"
      ]
     },
     "execution_count": 10,
     "metadata": {},
     "output_type": "execute_result"
    }
   ],
   "source": [
    "# Just check if emoticons with alphabets are present in the training set\n",
    "':P' in just_words"
   ]
  },
  {
   "cell_type": "code",
   "execution_count": 11,
   "metadata": {
    "ExecuteTime": {
     "end_time": "2018-10-31T20:30:18.358755Z",
     "start_time": "2018-10-31T20:30:18.330496Z"
    }
   },
   "outputs": [
    {
     "data": {
      "text/plain": [
       "['😡',\n",
       " ':)',\n",
       " ';)',\n",
       " ':)',\n",
       " ';)',\n",
       " ':)',\n",
       " ':)',\n",
       " ':)',\n",
       " ':)',\n",
       " ':(',\n",
       " ';)',\n",
       " ':)',\n",
       " ':)',\n",
       " ';)',\n",
       " ';)',\n",
       " ':)',\n",
       " ':)',\n",
       " ':)',\n",
       " ':)',\n",
       " ':-)',\n",
       " '😜',\n",
       " ':(',\n",
       " ':)',\n",
       " ':)',\n",
       " ':(',\n",
       " ':)',\n",
       " ':-)',\n",
       " ':)',\n",
       " ':)',\n",
       " ':)',\n",
       " ':/',\n",
       " ':(',\n",
       " ';)',\n",
       " ':)',\n",
       " ':-(',\n",
       " ':/',\n",
       " ':@',\n",
       " ':@',\n",
       " ':(',\n",
       " ':-)',\n",
       " ';)',\n",
       " ':/',\n",
       " ':(',\n",
       " ':(',\n",
       " ';)',\n",
       " ':3',\n",
       " ':)',\n",
       " ':-)',\n",
       " ':(',\n",
       " ':)',\n",
       " ':)',\n",
       " ':)',\n",
       " ':)',\n",
       " ':)',\n",
       " ';)',\n",
       " ':)',\n",
       " ':-(',\n",
       " ':-)',\n",
       " ':)',\n",
       " ';)',\n",
       " ':-(',\n",
       " ':)',\n",
       " ':)',\n",
       " ':(',\n",
       " ':(',\n",
       " ':(',\n",
       " ':(',\n",
       " ';)',\n",
       " ':)',\n",
       " ':)',\n",
       " ':(',\n",
       " ':(',\n",
       " ':-(',\n",
       " ';)',\n",
       " ';)',\n",
       " ':)',\n",
       " ':)',\n",
       " ':(',\n",
       " ':)',\n",
       " ';)',\n",
       " ':)',\n",
       " ';)',\n",
       " ':)',\n",
       " ':)',\n",
       " '😡',\n",
       " ':)',\n",
       " ':)',\n",
       " ':)',\n",
       " ':)',\n",
       " ';)',\n",
       " ':(',\n",
       " ';)',\n",
       " ':-/',\n",
       " ':)',\n",
       " ':)',\n",
       " ':)',\n",
       " ':)',\n",
       " ':)',\n",
       " ':(',\n",
       " ':(',\n",
       " ':(',\n",
       " ':)',\n",
       " '😘',\n",
       " ';)',\n",
       " ':)',\n",
       " ':)',\n",
       " ':-)',\n",
       " ';)',\n",
       " ':)',\n",
       " ':)',\n",
       " ':)',\n",
       " ';)',\n",
       " ':)',\n",
       " ':)',\n",
       " ':)',\n",
       " ':/',\n",
       " ':-)',\n",
       " ':)',\n",
       " ';)',\n",
       " ':(',\n",
       " ':)',\n",
       " ':)',\n",
       " ':)',\n",
       " ':@',\n",
       " ':)',\n",
       " ';)',\n",
       " ':)',\n",
       " ':)',\n",
       " ':)',\n",
       " ':(',\n",
       " ':/',\n",
       " ':-(',\n",
       " ':)',\n",
       " ':-)',\n",
       " ':)',\n",
       " ':)',\n",
       " ':(',\n",
       " ':)',\n",
       " ':)',\n",
       " ';)',\n",
       " ';)',\n",
       " ':)',\n",
       " ':)',\n",
       " ':)',\n",
       " ':)',\n",
       " ':)',\n",
       " ':-(',\n",
       " ':)',\n",
       " ';)',\n",
       " ':(',\n",
       " ':(',\n",
       " ':)',\n",
       " ':)',\n",
       " ':)',\n",
       " ':(',\n",
       " ';)',\n",
       " ':-)',\n",
       " ':-)',\n",
       " ':-)',\n",
       " ':-)',\n",
       " ':)',\n",
       " ';)',\n",
       " ':)',\n",
       " '=)',\n",
       " ';)',\n",
       " ':/',\n",
       " ';)',\n",
       " ':-)',\n",
       " ':3',\n",
       " ':@',\n",
       " ':(',\n",
       " ';)',\n",
       " ':)',\n",
       " ':)',\n",
       " ':)',\n",
       " ';)',\n",
       " ':-/',\n",
       " ':(',\n",
       " ':)',\n",
       " ':)',\n",
       " ':)',\n",
       " ':/',\n",
       " ':-(',\n",
       " ':)',\n",
       " ':)',\n",
       " ':)',\n",
       " ':)',\n",
       " ':)',\n",
       " ';)',\n",
       " ':(',\n",
       " ':)',\n",
       " ':)',\n",
       " ';)',\n",
       " ':)',\n",
       " ':)',\n",
       " ':)',\n",
       " ':)',\n",
       " ':)',\n",
       " ';)',\n",
       " ':/',\n",
       " ':)',\n",
       " ':)',\n",
       " ':)',\n",
       " ';)',\n",
       " ':)',\n",
       " ';)',\n",
       " ':)',\n",
       " ';)',\n",
       " ':)',\n",
       " ':)',\n",
       " ':/',\n",
       " ':)',\n",
       " ';)',\n",
       " ':(',\n",
       " ':)',\n",
       " ';)',\n",
       " ':(',\n",
       " ':-(',\n",
       " ':-(',\n",
       " ':-(',\n",
       " ':)',\n",
       " ';)',\n",
       " ':-)',\n",
       " ':)',\n",
       " ':-/',\n",
       " ':)',\n",
       " ':/',\n",
       " ';)',\n",
       " ':)',\n",
       " ';)',\n",
       " ':)',\n",
       " ':)',\n",
       " ';)',\n",
       " ';)',\n",
       " ':)',\n",
       " ':-)',\n",
       " ':-)',\n",
       " ':)',\n",
       " ':(',\n",
       " ':)',\n",
       " ':(',\n",
       " ':(',\n",
       " ';)',\n",
       " ':-/',\n",
       " '😡',\n",
       " ':)',\n",
       " ';)',\n",
       " ';)',\n",
       " ';)',\n",
       " ':(',\n",
       " ':)',\n",
       " ':)',\n",
       " ':-)',\n",
       " ':)',\n",
       " ';)',\n",
       " ':)',\n",
       " ':)',\n",
       " ':(',\n",
       " ':(',\n",
       " '😜',\n",
       " ':)',\n",
       " ':-)',\n",
       " ':(',\n",
       " ':(',\n",
       " ':)',\n",
       " ':-(',\n",
       " ';)',\n",
       " ':3',\n",
       " ':)',\n",
       " ';)',\n",
       " ':-(',\n",
       " ';)',\n",
       " ':)',\n",
       " ':)',\n",
       " ':)',\n",
       " ':-)',\n",
       " ';)',\n",
       " ':-/',\n",
       " ':)',\n",
       " ':)',\n",
       " ':)',\n",
       " ':3',\n",
       " ';)',\n",
       " ':(',\n",
       " ':(',\n",
       " ';)',\n",
       " ':)',\n",
       " ':/',\n",
       " ':)',\n",
       " ':)',\n",
       " ':)',\n",
       " ':(',\n",
       " ':)',\n",
       " ':)',\n",
       " ':)',\n",
       " ':)',\n",
       " ':-/',\n",
       " ';)',\n",
       " ':)',\n",
       " ':)',\n",
       " ':-)',\n",
       " ':(',\n",
       " ':-)',\n",
       " ':)',\n",
       " ';)',\n",
       " ';)',\n",
       " ';)',\n",
       " ';)',\n",
       " ':-)',\n",
       " ':-)',\n",
       " ':-(',\n",
       " ':-(',\n",
       " ';)',\n",
       " ':)',\n",
       " ':/',\n",
       " ':(',\n",
       " ':)',\n",
       " ';)',\n",
       " ';)']"
      ]
     },
     "execution_count": 11,
     "metadata": {},
     "output_type": "execute_result"
    }
   ],
   "source": [
    "# How do emoticons look?\n",
    "[w for i, w in enumerate(just_words) if just_tags[i] == 'EMT']"
   ]
  },
  {
   "cell_type": "code",
   "execution_count": 13,
   "metadata": {
    "ExecuteTime": {
     "end_time": "2018-10-31T20:30:30.691535Z",
     "start_time": "2018-10-31T20:30:30.621724Z"
    }
   },
   "outputs": [
    {
     "data": {
      "text/plain": [
       "array(['EMT', 'EN', 'HI', 'UN'], dtype='<U3')"
      ]
     },
     "execution_count": 13,
     "metadata": {},
     "output_type": "execute_result"
    }
   ],
   "source": [
    "# The 4 possible tags we need to classifiy for\n",
    "np.unique(tags_train)"
   ]
  },
  {
   "cell_type": "markdown",
   "metadata": {},
   "source": [
    "## Wordnet and Hindi Dictionary"
   ]
  },
  {
   "cell_type": "code",
   "execution_count": 14,
   "metadata": {
    "ExecuteTime": {
     "end_time": "2018-10-31T20:30:40.651506Z",
     "start_time": "2018-10-31T20:30:40.635813Z"
    }
   },
   "outputs": [],
   "source": [
    "# Classifier that uses wordnet's dictionary\n",
    "def classify_dictionary(words):\n",
    "    preds = []\n",
    "    for w in words:\n",
    "        if wordnet.synsets(w):\n",
    "            preds.append('EN')\n",
    "            \n",
    "        elif re.search('[a-zA-Z]', w) == None:\n",
    "            preds.append('EMT')\n",
    "            \n",
    "        elif w in hin_dict:\n",
    "            preds.append('HI')\n",
    "        \n",
    "        else:\n",
    "            preds.append('UN')\n",
    "            \n",
    "    return preds"
   ]
  },
  {
   "cell_type": "code",
   "execution_count": 15,
   "metadata": {
    "ExecuteTime": {
     "end_time": "2018-10-31T20:33:13.062388Z",
     "start_time": "2018-10-31T20:31:58.071262Z"
    }
   },
   "outputs": [],
   "source": [
    "preds_dict_train = classify_dictionary(words_train)\n",
    "preds_dict_test = classify_dictionary(words_test)"
   ]
  },
  {
   "cell_type": "code",
   "execution_count": 33,
   "metadata": {
    "ExecuteTime": {
     "end_time": "2018-10-31T21:27:27.778899Z",
     "start_time": "2018-10-31T21:27:27.774912Z"
    }
   },
   "outputs": [],
   "source": [
    "def classification_acc(true_y, pred_y):\n",
    "    classified = [True for i in range(len(true_y)) if true_y[i] == pred_y[i]]\n",
    "    return (np.sum(classified)/len(true_y))*100"
   ]
  },
  {
   "cell_type": "code",
   "execution_count": 17,
   "metadata": {
    "ExecuteTime": {
     "end_time": "2018-10-31T20:33:14.794980Z",
     "start_time": "2018-10-31T20:33:14.745833Z"
    }
   },
   "outputs": [
    {
     "name": "stdout",
     "output_type": "stream",
     "text": [
      "Training classification accuracy using just dictionaries is: 55.94523642547276 %\n",
      "Test classification accuracy using just dictionaries is: 52.33224933594817 %\n"
     ]
    }
   ],
   "source": [
    "print ('Training classification accuracy using just dictionaries is:', classification_acc(tags_train, preds_dict_train), '%')\n",
    "print ('Test classification accuracy using just dictionaries is:', classification_acc(tags_test, preds_dict_test), '%')"
   ]
  },
  {
   "cell_type": "markdown",
   "metadata": {},
   "source": [
    "## Checking with the Twitter Dictionary "
   ]
  },
  {
   "cell_type": "code",
   "execution_count": 5,
   "metadata": {
    "ExecuteTime": {
     "end_time": "2018-10-31T21:18:53.275389Z",
     "start_time": "2018-10-31T21:18:53.269376Z"
    }
   },
   "outputs": [],
   "source": [
    "# Load the twitter generated dictionary\n",
    "with open('dictionaries/dictionary_twitter.txt', 'rb') as f:\n",
    "    twitter_dict = pickle.load(f)"
   ]
  },
  {
   "cell_type": "code",
   "execution_count": 10,
   "metadata": {
    "ExecuteTime": {
     "end_time": "2018-10-31T21:20:11.224714Z",
     "start_time": "2018-10-31T21:20:11.220724Z"
    }
   },
   "outputs": [],
   "source": [
    "just_keys = list(twitter_dict.keys())"
   ]
  },
  {
   "cell_type": "code",
   "execution_count": 23,
   "metadata": {
    "ExecuteTime": {
     "end_time": "2018-10-31T21:23:17.672707Z",
     "start_time": "2018-10-31T21:23:17.669718Z"
    }
   },
   "outputs": [],
   "source": [
    "# Clean the keys of punctuations and links\n",
    "invalid_chars = set(string.punctuation)"
   ]
  },
  {
   "cell_type": "code",
   "execution_count": 31,
   "metadata": {
    "ExecuteTime": {
     "end_time": "2018-10-31T21:25:59.721728Z",
     "start_time": "2018-10-31T21:25:59.712752Z"
    }
   },
   "outputs": [],
   "source": [
    "twitter_dict_eng = [w for w in just_keys if not any([True for i in w if i in invalid_chars])]"
   ]
  },
  {
   "cell_type": "code",
   "execution_count": 32,
   "metadata": {
    "ExecuteTime": {
     "end_time": "2018-10-31T21:27:18.334596Z",
     "start_time": "2018-10-31T21:27:18.318668Z"
    }
   },
   "outputs": [],
   "source": [
    "# Classifier that uses the Twitter dictionary dictionary\n",
    "def classify_dictionary_twitter(words):\n",
    "    preds = []\n",
    "    for w in words:\n",
    "        if w in twitter_dict_eng:\n",
    "            preds.append('EN')\n",
    "            \n",
    "        elif re.search('[a-zA-Z]', w) == None:\n",
    "            preds.append('EMT')\n",
    "            \n",
    "        elif w in hin_dict:\n",
    "            preds.append('HI')\n",
    "        \n",
    "        else:\n",
    "            preds.append('UN')\n",
    "            \n",
    "    return preds"
   ]
  },
  {
   "cell_type": "code",
   "execution_count": 34,
   "metadata": {
    "ExecuteTime": {
     "end_time": "2018-10-31T21:29:36.802636Z",
     "start_time": "2018-10-31T21:27:52.925311Z"
    }
   },
   "outputs": [],
   "source": [
    "preds_dict_train_tw = classify_dictionary_twitter(words_train)\n",
    "preds_dict_test_tw = classify_dictionary_twitter(words_test)"
   ]
  },
  {
   "cell_type": "code",
   "execution_count": 35,
   "metadata": {
    "ExecuteTime": {
     "end_time": "2018-10-31T21:30:11.423409Z",
     "start_time": "2018-10-31T21:30:11.372542Z"
    }
   },
   "outputs": [
    {
     "name": "stdout",
     "output_type": "stream",
     "text": [
      "Training classification accuracy using Twitter dictionaries is: 60.810282444500984 %\n",
      "Test classification accuracy using Twitter dictionaries is: 56.6591366084949 %\n"
     ]
    }
   ],
   "source": [
    "print ('Training classification accuracy using Twitter dictionaries is:', classification_acc(tags_train, preds_dict_train_tw), '%')\n",
    "print ('Test classification accuracy using Twitter dictionaries is:', classification_acc(tags_test, preds_dict_test_tw), '%')"
   ]
  },
  {
   "cell_type": "markdown",
   "metadata": {},
   "source": [
    "Accuracy has slightly improved with a dictionary more suitable for the task."
   ]
  },
  {
   "cell_type": "markdown",
   "metadata": {},
   "source": [
    "## Char n-grams"
   ]
  },
  {
   "cell_type": "code",
   "execution_count": 4,
   "metadata": {},
   "outputs": [],
   "source": [
    "link = 'http://dasdipankar.com/ICON_NLP_Tool_Contest_2017/HI-EN.json'\n",
    "js = urllib.request.urlopen(link)\n",
    "\n",
    "js_raw = js.readlines()\n",
    "\n",
    "js_str = [by.decode('utf-8') for by in js_raw]\n",
    "\n",
    "js_as_json = json.loads(''.join(js_str))"
   ]
  },
  {
   "cell_type": "code",
   "execution_count": 146,
   "metadata": {},
   "outputs": [],
   "source": [
    "only_text = [str(i['text']).strip() for i in js_as_json]\n",
    "text_corpus = ''\n",
    "for entry in only_text:\n",
    "    text_corpus += entry + ''"
   ]
  },
  {
   "cell_type": "code",
   "execution_count": 148,
   "metadata": {},
   "outputs": [],
   "source": [
    "def generate_ngram(text_corpus, n):\n",
    "    ngram = word2ngrams(text_corpus, n)\n",
    "    return ngram"
   ]
  },
  {
   "cell_type": "code",
   "execution_count": 107,
   "metadata": {},
   "outputs": [],
   "source": [
    "def word2ngrams(text, n, exact=True):\n",
    "    \"\"\" Convert text into character ngrams. \"\"\"\n",
    "    return [text[i:i+n] for i in range(len(text)-n+1)]"
   ]
  },
  {
   "cell_type": "code",
   "execution_count": 163,
   "metadata": {},
   "outputs": [],
   "source": [
    "char_bigrams = generate_ngram(text_corpus, 2)\n",
    "char_trigrams = generate_ngram(text_corpus, 3)\n",
    "char_quadgrams = generate_ngram(text_corpus, 4)\n",
    "char_pentagrams = generate_ngram(text_corpus, 5)"
   ]
  },
  {
   "cell_type": "code",
   "execution_count": 170,
   "metadata": {},
   "outputs": [],
   "source": [
    "char_combined = char_bigrams + char_trigrams + char_quadgrams + char_pentagrams"
   ]
  },
  {
   "cell_type": "code",
   "execution_count": 171,
   "metadata": {},
   "outputs": [],
   "source": [
    "combined_dict = collections.Counter(char_combined)\n",
    "combined_dict = sorted(combined_dict.items(), key=operator.itemgetter(1), reverse=True)"
   ]
  },
  {
   "cell_type": "code",
   "execution_count": 177,
   "metadata": {},
   "outputs": [
    {
     "data": {
      "text/plain": [
       "[('e ', 25454),\n",
       " ('i ', 16448),\n",
       " ('a ', 15642),\n",
       " ('  ', 15446),\n",
       " ('ha', 13922),\n",
       " (' .', 13561),\n",
       " (' k', 12961),\n",
       " ('. ', 12898),\n",
       " (' h', 12561),\n",
       " (' t', 12379),\n",
       " (' a', 10800),\n",
       " (' . ', 10779),\n",
       " (' b', 10481),\n",
       " (' s', 9944),\n",
       " ('t ', 9935),\n",
       " ('n ', 9883),\n",
       " ('.  ', 9424),\n",
       " ('an', 9339),\n",
       " (' .  ', 9319),\n",
       " ('in', 9178),\n",
       " ('o ', 9066),\n",
       " ('r ', 9006),\n",
       " ('ar', 8921),\n",
       " ('s ', 8879),\n",
       " (' m', 8581),\n",
       " ('th', 7637),\n",
       " ('ai', 7570),\n",
       " ('  .', 7504),\n",
       " ('hi', 7375),\n",
       " ('aa', 6918),\n",
       " ('  . ', 6765),\n",
       " ('he', 6689),\n",
       " ('.  .', 6413),\n",
       " (' .  .', 6411),\n",
       " ('..', 6165),\n",
       " (' p', 6144),\n",
       " ('  .  ', 6023),\n",
       " ('at', 5893),\n",
       " ('y ', 5889),\n",
       " ('.  . ', 5769),\n",
       " ('d ', 5741),\n",
       " ('al', 5723),\n",
       " (' i', 5649),\n",
       " (' d', 5550),\n",
       " ('h ', 5542),\n",
       " ('on', 5377),\n",
       " ('me', 5377),\n",
       " (' th', 5303),\n",
       " ('er', 5298),\n",
       " ('re', 5185),\n",
       " ('ka', 5137),\n",
       " ('ma', 5040),\n",
       " (' n', 4968),\n",
       " (' c', 4944),\n",
       " ('ra', 4929),\n",
       " ('ch', 4857),\n",
       " ('to', 4717),\n",
       " (' w', 4694),\n",
       " ('is', 4641),\n",
       " ('ho', 4605),\n",
       " (' ha', 4547),\n",
       " ('nd', 4481),\n",
       " (' l', 4432),\n",
       " ('hai', 4402),\n",
       " ('na', 4361),\n",
       " ('sa', 4316),\n",
       " (' g', 4167),\n",
       " ('ah', 4147),\n",
       " ('l ', 4101),\n",
       " ('te', 4089),\n",
       " ('ne', 4081),\n",
       " ('hi ', 4055),\n",
       " ('ta', 4053),\n",
       " ('ba', 4026),\n",
       " ('ay', 3959),\n",
       " ('ng', 3933),\n",
       " ('se', 3926),\n",
       " (' ka', 3907),\n",
       " ('he ', 3871),\n",
       " (' to', 3836),\n",
       " ('or', 3784),\n",
       " ('st', 3747),\n",
       " (' j', 3690),\n",
       " (' o', 3664),\n",
       " ('ya', 3652),\n",
       " ('it', 3622),\n",
       " (' r', 3605),\n",
       " ('ai ', 3604),\n",
       " (' f', 3593),\n",
       " ('m ', 3580),\n",
       " ('...', 3567),\n",
       " ('ki', 3518),\n",
       " ('bh', 3514),\n",
       " ('am', 3503),\n",
       " ('es', 3487),\n",
       " ('de', 3481),\n",
       " ('la', 3458),\n",
       " ('le', 3435),\n",
       " ('en', 3426),\n",
       " ('g ', 3400),\n",
       " ('the', 3344),\n",
       " ('k ', 3338),\n",
       " ('ti', 3233),\n",
       " ('ap', 3209),\n",
       " ('pa', 3161),\n",
       " ('ke', 3138),\n",
       " ('an ', 3074),\n",
       " ('ga', 3056),\n",
       " ('di', 3037),\n",
       " (' ba', 2992),\n",
       " (' #', 2957),\n",
       " ('as', 2954),\n",
       " (' the', 2919),\n",
       " ('hai ', 2889),\n",
       " (' sa', 2877),\n",
       " ('ar ', 2856),\n",
       " ('in ', 2853),\n",
       " ('li', 2836),\n",
       " ('da', 2832),\n",
       " ('ad', 2819),\n",
       " ('ee', 2797),\n",
       " ('to ', 2791),\n",
       " (' hai', 2727),\n",
       " ('u ', 2725),\n",
       " ('ou', 2692),\n",
       " ('ja', 2688),\n",
       " (' ma', 2685),\n",
       " ('ri', 2676),\n",
       " ('ye', 2660),\n",
       " ('wa', 2630),\n",
       " ('ab', 2619),\n",
       " (' y', 2612),\n",
       " (' ho', 2608),\n",
       " (' to ', 2607),\n",
       " ('ll', 2578),\n",
       " ('a h', 2564),\n",
       " ('il', 2555),\n",
       " (' bh', 2537),\n",
       " ('om', 2530),\n",
       " ('ur', 2522),\n",
       " ('ne ', 2470),\n",
       " ('se ', 2455),\n",
       " ('hu', 2436),\n",
       " ('the ', 2434),\n",
       " ('sh', 2425),\n",
       " ('ea', 2398),\n",
       " ('ro', 2381),\n",
       " ('ng ', 2348),\n",
       " ('ing', 2340),\n",
       " (' the ', 2330),\n",
       " (', ', 2325),\n",
       " (' me', 2301),\n",
       " ('et', 2300),\n",
       " ('p ', 2241),\n",
       " ('ve', 2221),\n",
       " (' pa', 2197),\n",
       " (' ki', 2196),\n",
       " ('so', 2195),\n",
       " ('nt', 2184),\n",
       " ('on ', 2180),\n",
       " ('me ', 2163),\n",
       " ('ak', 2156),\n",
       " ('lo', 2153),\n",
       " ('si', 2146),\n",
       " ('at ', 2142),\n",
       " ('e h', 2127),\n",
       " ('be', 2115),\n",
       " ('ya ', 2111),\n",
       " ('er ', 2087),\n",
       " ('us', 2074),\n",
       " ('ni', 2073),\n",
       " ('co', 2065),\n",
       " ('oo', 2044),\n",
       " ('ke ', 2041),\n",
       " (' aa', 2040),\n",
       " ('kh', 2038),\n",
       " ('ha ', 2028),\n",
       " ('ing ', 2022),\n",
       " ('un', 2019),\n",
       " ('el', 2009),\n",
       " (' u', 2009),\n",
       " ('re ', 2002),\n",
       " ('e k', 1986),\n",
       " ('ge', 1981),\n",
       " ('mo', 1975),\n",
       " ('ac', 1969),\n",
       " (' ,', 1930),\n",
       " (' in', 1928),\n",
       " ('na ', 1915),\n",
       " ('ko', 1911),\n",
       " ('....', 1902),\n",
       " (' ja', 1900),\n",
       " ('ki ', 1899),\n",
       " (' e', 1878),\n",
       " ('b ', 1858),\n",
       " ('ut', 1857),\n",
       " (' , ', 1849),\n",
       " (' !', 1839),\n",
       " (' hai ', 1835),\n",
       " (' ch', 1834),\n",
       " ('e t', 1828),\n",
       " ('ag', 1824),\n",
       " ('e b', 1812),\n",
       " ('mi', 1811),\n",
       " ('ot', 1802),\n",
       " ('kar', 1795),\n",
       " ('nd ', 1794),\n",
       " ('is ', 1788),\n",
       " ('i h', 1777),\n",
       " (' se', 1771),\n",
       " (' na', 1752),\n",
       " ('bha', 1741),\n",
       " ('ed', 1730),\n",
       " ('ir', 1729),\n",
       " ('i k', 1724),\n",
       " ('ss', 1716),\n",
       " ('and', 1704),\n",
       " (' de', 1702),\n",
       " ('rt', 1690),\n",
       " ('f ', 1689),\n",
       " ('ay ', 1688),\n",
       " ('pe', 1669),\n",
       " ('ta ', 1668),\n",
       " ('e s', 1662),\n",
       " ('ht', 1632),\n",
       " ('te ', 1623),\n",
       " ('e a', 1620),\n",
       " ('cha', 1600),\n",
       " ('! ', 1599),\n",
       " ('ye ', 1583),\n",
       " ('iy', 1581),\n",
       " ('ol', 1570),\n",
       " (' kar', 1561),\n",
       " (' wa', 1527),\n",
       " ('st ', 1509),\n",
       " (',  ', 1497),\n",
       " (' ,  ', 1493),\n",
       " (' be', 1492),\n",
       " ('a k', 1473),\n",
       " (' an', 1473),\n",
       " ('ic', 1472),\n",
       " ('ow', 1468),\n",
       " ('id', 1462),\n",
       " ('no', 1460),\n",
       " (' :', 1452),\n",
       " ('io', 1451),\n",
       " (' ko', 1449),\n",
       " ('or ', 1438),\n",
       " ('ind', 1430),\n",
       " ('su', 1422),\n",
       " ('aap', 1420),\n",
       " (' ke', 1407),\n",
       " ('ka ', 1390),\n",
       " ('ek', 1387),\n",
       " (' ki ', 1387),\n",
       " (' is', 1377),\n",
       " (' hi', 1370),\n",
       " ('ho ', 1365),\n",
       " (' ! ', 1354),\n",
       " ('tu', 1349),\n",
       " ('ahi', 1345),\n",
       " ('tha', 1343),\n",
       " ('yo', 1340),\n",
       " ('le ', 1337),\n",
       " (' bha', 1337),\n",
       " ('tt', 1320),\n",
       " ('wi', 1320),\n",
       " ('um', 1315),\n",
       " ('we', 1300),\n",
       " ('bhai', 1300),\n",
       " (' co', 1281),\n",
       " ('.. ', 1279),\n",
       " ('w ', 1276),\n",
       " ('ko ', 1269),\n",
       " ('!  ', 1266),\n",
       " ('od', 1263),\n",
       " ('aha', 1262),\n",
       " (' !  ', 1262),\n",
       " ('al ', 1259),\n",
       " (' ..', 1255),\n",
       " ('bhi', 1250),\n",
       " ('man', 1247),\n",
       " (' ga', 1242),\n",
       " ('i b', 1241),\n",
       " ('ll ', 1239),\n",
       " ('ome', 1237),\n",
       " ('i a', 1231),\n",
       " ('ia', 1228),\n",
       " (' ra', 1222),\n",
       " (' on', 1220),\n",
       " ('e p', 1219),\n",
       " ('ed ', 1215),\n",
       " ('e m', 1214),\n",
       " ('th ', 1210),\n",
       " (' ?', 1203),\n",
       " ('han', 1198),\n",
       " ('ud', 1196),\n",
       " (' li', 1194),\n",
       " ('im', 1192),\n",
       " ('ce', 1190),\n",
       " ('of', 1186),\n",
       " ('gi', 1175),\n",
       " ('har', 1175),\n",
       " ('day', 1174),\n",
       " ('tr', 1170),\n",
       " (' mo', 1163),\n",
       " ('bhi ', 1162),\n",
       " ('do', 1158),\n",
       " ('pl', 1156),\n",
       " ('bo', 1155),\n",
       " (' tha', 1155),\n",
       " ('a ha', 1150),\n",
       " ('fo', 1148),\n",
       " ('ca', 1147),\n",
       " ('au', 1147),\n",
       " ('go', 1132),\n",
       " ('bu', 1127),\n",
       " ('ion', 1127),\n",
       " (' in ', 1123),\n",
       " ('ck', 1114),\n",
       " (' di', 1110),\n",
       " ('ns', 1107),\n",
       " ('vi', 1106),\n",
       " ('and ', 1105),\n",
       " (' la', 1104),\n",
       " ('du', 1103),\n",
       " (' re', 1102),\n",
       " ('es ', 1097),\n",
       " ('ter', 1096),\n",
       " ('ch ', 1088),\n",
       " (' wi', 1086),\n",
       " ('ab ', 1081),\n",
       " ('aj', 1080),\n",
       " ('.....', 1072),\n",
       " (' v', 1071),\n",
       " ('rs', 1070),\n",
       " ('ul', 1065),\n",
       " ('are', 1064),\n",
       " (' me ', 1064),\n",
       " ('a t', 1062),\n",
       " ('ec', 1057),\n",
       " (' of', 1051),\n",
       " ('ov', 1048),\n",
       " ('i t', 1046),\n",
       " ('ly', 1043),\n",
       " (' is ', 1043),\n",
       " ('as ', 1033),\n",
       " ('ut ', 1032),\n",
       " ('rah', 1032),\n",
       " ('ur ', 1028),\n",
       " ('ain', 1024),\n",
       " (' ke ', 1023),\n",
       " (' bhai', 1020),\n",
       " (' cha', 1019),\n",
       " ('thi', 1018),\n",
       " ('am ', 1015),\n",
       " (' ho ', 1014),\n",
       " ('ie', 1012),\n",
       " ('n t', 1011),\n",
       " (' @', 1010),\n",
       " ('all', 1010),\n",
       " ('gh', 1008),\n",
       " ('pr', 1002),\n",
       " (' hu', 1002),\n",
       " (' se ', 1002),\n",
       " ('fi', 1001),\n",
       " (' he', 1001),\n",
       " (' ka ', 992),\n",
       " (' a ', 983),\n",
       " ('ve ', 981),\n",
       " (' lo', 979),\n",
       " ('t t', 977),\n",
       " ('ky', 976),\n",
       " ('gu', 976),\n",
       " ('for', 975),\n",
       " ('a b', 974),\n",
       " ('som', 973),\n",
       " ('i s', 972),\n",
       " ('some', 968),\n",
       " ('wo', 967),\n",
       " (' kh', 967),\n",
       " (' fo', 967),\n",
       " ('you', 966),\n",
       " ('lm', 963),\n",
       " ('day ', 963),\n",
       " ('it ', 957),\n",
       " (' and', 954),\n",
       " ('eg', 947),\n",
       " (' ko ', 947),\n",
       " ('e l', 943),\n",
       " ('hat', 939),\n",
       " (' ne', 936),\n",
       " ('e d', 935),\n",
       " (' yo', 931),\n",
       " ('of ', 928),\n",
       " ('ei', 923),\n",
       " ('i m', 923),\n",
       " ('ap ', 920),\n",
       " ('uc', 912),\n",
       " (' of ', 911),\n",
       " ('og', 908),\n",
       " (' ap', 904),\n",
       " ('a hai', 902),\n",
       " (' it', 901),\n",
       " ('ahi ', 901),\n",
       " ('up', 899),\n",
       " (' and ', 898),\n",
       " ('@s', 897),\n",
       " ('po', 894),\n",
       " ('ik', 889),\n",
       " ('rn', 888),\n",
       " ('ig', 887),\n",
       " (' so', 886),\n",
       " ('mu', 884),\n",
       " (' h ', 880),\n",
       " ('bi', 877),\n",
       " ('fa', 877),\n",
       " (' su', 877),\n",
       " ('ts', 875),\n",
       " (' do', 875),\n",
       " ('ly ', 875),\n",
       " ('ow ', 874),\n",
       " (' bhi', 872),\n",
       " (' you', 871),\n",
       " ('  !', 868),\n",
       " ('n k', 867),\n",
       " (' sh', 864),\n",
       " ('rr', 859),\n",
       " ('os', 857),\n",
       " (' aap', 856),\n",
       " ('sal', 855),\n",
       " ('ji', 851),\n",
       " ('av', 851),\n",
       " ('e w', 851),\n",
       " ('e i', 843),\n",
       " (' go', 843),\n",
       " ('em', 841),\n",
       " ('e .', 841),\n",
       " ('a s', 835),\n",
       " ('fr', 830),\n",
       " ('aan', 830),\n",
       " (' da', 830),\n",
       " ('? ', 829),\n",
       " (' for', 829),\n",
       " ('dh', 828),\n",
       " ('ge ', 828),\n",
       " (' on ', 827),\n",
       " (' mi', 824),\n",
       " (' bhi ', 822),\n",
       " ('kr', 819),\n",
       " ('ent', 818),\n",
       " ('e c', 818),\n",
       " ('en ', 816),\n",
       " ('par', 812),\n",
       " ('ct', 811),\n",
       " ('s t', 811),\n",
       " ('bhai ', 808),\n",
       " ('nt ', 806),\n",
       " ('t k', 805),\n",
       " ('ill', 805),\n",
       " ('ry', 804),\n",
       " ('ate', 804),\n",
       " ('aye', 803),\n",
       " (' ye', 797),\n",
       " ('art', 795),\n",
       " ('s a', 793),\n",
       " (' ky', 790),\n",
       " ('ara', 790),\n",
       " ('o b', 789),\n",
       " ('ach', 789),\n",
       " (' pe', 789),\n",
       " ('man ', 787),\n",
       " (' thi', 786),\n",
       " (' no', 785),\n",
       " ('oi', 783),\n",
       " ('kha', 782),\n",
       " (' ca', 782),\n",
       " (' si', 780),\n",
       " ('o k', 780),\n",
       " ('ere', 777),\n",
       " (' bo', 777),\n",
       " ('rd', 775),\n",
       " ('??', 774),\n",
       " ('ra ', 772),\n",
       " (' st', 770),\n",
       " ('ru', 767),\n",
       " ('iya', 767),\n",
       " ('e ha', 767),\n",
       " ('nc', 766),\n",
       " ('her', 763),\n",
       " (' le', 763),\n",
       " (' ...', 760),\n",
       " ('... ', 759),\n",
       " ('di ', 757),\n",
       " ('SE', 755),\n",
       " (' wo', 755),\n",
       " ('tio', 753),\n",
       " ('rm', 752),\n",
       " ('ER', 752),\n",
       " ('eU', 751)]"
      ]
     },
     "execution_count": 177,
     "metadata": {},
     "output_type": "execute_result"
    }
   ],
   "source": [
    "combined_dict[:500]"
   ]
  },
  {
   "cell_type": "code",
   "execution_count": null,
   "metadata": {},
   "outputs": [],
   "source": []
  }
 ],
 "metadata": {
  "kernelspec": {
   "display_name": "Python 3",
   "language": "python",
   "name": "python3"
  },
  "language_info": {
   "codemirror_mode": {
    "name": "ipython",
    "version": 3
   },
   "file_extension": ".py",
   "mimetype": "text/x-python",
   "name": "python",
   "nbconvert_exporter": "python",
   "pygments_lexer": "ipython3",
   "version": "3.6.5"
  },
  "latex_envs": {
   "LaTeX_envs_menu_present": true,
   "autoclose": false,
   "autocomplete": true,
   "bibliofile": "biblio.bib",
   "cite_by": "apalike",
   "current_citInitial": 1,
   "eqLabelWithNumbers": true,
   "eqNumInitial": 1,
   "hotkeys": {
    "equation": "Ctrl-E",
    "itemize": "Ctrl-I"
   },
   "labels_anchors": false,
   "latex_user_defs": false,
   "report_style_numbering": false,
   "user_envs_cfg": false
  }
 },
 "nbformat": 4,
 "nbformat_minor": 2
}
