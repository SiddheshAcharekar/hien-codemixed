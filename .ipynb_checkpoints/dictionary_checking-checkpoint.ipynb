{
 "cells": [
  {
   "cell_type": "code",
   "execution_count": 1,
   "metadata": {
    "ExecuteTime": {
     "end_time": "2018-10-27T16:56:30.895177Z",
     "start_time": "2018-10-27T16:56:29.698311Z"
    }
   },
   "outputs": [],
   "source": [
    "import pandas as pd\n",
    "import numpy as np\n",
    "from nltk import *\n",
    "import pickle\n",
    "import re\n",
    "from nltk.corpus import wordnet"
   ]
  },
  {
   "cell_type": "code",
   "execution_count": 2,
   "metadata": {
    "ExecuteTime": {
     "end_time": "2018-10-27T16:56:30.970954Z",
     "start_time": "2018-10-27T16:56:30.897104Z"
    }
   },
   "outputs": [],
   "source": [
    "# Load our data and try\n",
    "with open('modified_data/just_tags.txt', 'rb') as f:\n",
    "    just_tags = pickle.load(f)\n",
    "    \n",
    "with open('modified_data/just_words.txt', 'rb') as f:\n",
    "    just_words = pickle.load(f)"
   ]
  },
  {
   "cell_type": "code",
   "execution_count": 3,
   "metadata": {
    "ExecuteTime": {
     "end_time": "2018-10-27T16:56:30.999830Z",
     "start_time": "2018-10-27T16:56:30.971903Z"
    }
   },
   "outputs": [],
   "source": [
    "# Make hindi dictionary from training data becuase theres no phonetically typed hindi dictionary anywhere\n",
    "hin_dict = [w for i, w in enumerate(just_words) if just_tags[i] == 'HI']"
   ]
  },
  {
   "cell_type": "code",
   "execution_count": 4,
   "metadata": {
    "ExecuteTime": {
     "end_time": "2018-10-27T16:56:32.826438Z",
     "start_time": "2018-10-27T16:56:31.004819Z"
    }
   },
   "outputs": [
    {
     "name": "stdout",
     "output_type": "stream",
     "text": [
      "ENGLISH\n"
     ]
    }
   ],
   "source": [
    "# How wordnets dictionary works:\n",
    "# Case insensitive so its good for our data\n",
    "if wordnet.synsets('lIbRary'):\n",
    "    print('ENGLISH')\n",
    "else:\n",
    "    print('NOT ENGLISH')"
   ]
  },
  {
   "cell_type": "code",
   "execution_count": 5,
   "metadata": {
    "ExecuteTime": {
     "end_time": "2018-10-27T16:56:32.844360Z",
     "start_time": "2018-10-27T16:56:32.829401Z"
    }
   },
   "outputs": [
    {
     "data": {
      "text/plain": [
       "False"
      ]
     },
     "execution_count": 5,
     "metadata": {},
     "output_type": "execute_result"
    }
   ],
   "source": [
    "# Just check if emoticons with alphabets are present in the training set\n",
    "':P' in just_words"
   ]
  },
  {
   "cell_type": "code",
   "execution_count": 6,
   "metadata": {
    "ExecuteTime": {
     "end_time": "2018-10-27T16:56:32.915180Z",
     "start_time": "2018-10-27T16:56:32.850344Z"
    }
   },
   "outputs": [
    {
     "data": {
      "text/plain": [
       "['😡',\n",
       " ':)',\n",
       " ';)',\n",
       " ':)',\n",
       " ';)',\n",
       " ':)',\n",
       " ':)',\n",
       " ':)',\n",
       " ':)',\n",
       " ':(',\n",
       " ';)',\n",
       " ':)',\n",
       " ':)',\n",
       " ';)',\n",
       " ';)',\n",
       " ':)',\n",
       " ':)',\n",
       " ':)',\n",
       " ':)',\n",
       " ':-)',\n",
       " '😜',\n",
       " ':(',\n",
       " ':)',\n",
       " ':)',\n",
       " ':(',\n",
       " ':)',\n",
       " ':-)',\n",
       " ':)',\n",
       " ':)',\n",
       " ':)',\n",
       " ':/',\n",
       " ':(',\n",
       " ';)',\n",
       " ':)',\n",
       " ':-(',\n",
       " ':/',\n",
       " ':@',\n",
       " ':@',\n",
       " ':(',\n",
       " ':-)',\n",
       " ';)',\n",
       " ':/',\n",
       " ':(',\n",
       " ':(',\n",
       " ';)',\n",
       " ':3',\n",
       " ':)',\n",
       " ':-)',\n",
       " ':(',\n",
       " ':)',\n",
       " ':)',\n",
       " ':)',\n",
       " ':)',\n",
       " ':)',\n",
       " ';)',\n",
       " ':)',\n",
       " ':-(',\n",
       " ':-)',\n",
       " ':)',\n",
       " ';)',\n",
       " ':-(',\n",
       " ':)',\n",
       " ':)',\n",
       " ':(',\n",
       " ':(',\n",
       " ':(',\n",
       " ':(',\n",
       " ';)',\n",
       " ':)',\n",
       " ':)',\n",
       " ':(',\n",
       " ':(',\n",
       " ':-(',\n",
       " ';)',\n",
       " ';)',\n",
       " ':)',\n",
       " ':)',\n",
       " ':(',\n",
       " ':)',\n",
       " ';)',\n",
       " ':)',\n",
       " ';)',\n",
       " ':)',\n",
       " ':)',\n",
       " '😡',\n",
       " ':)',\n",
       " ':)',\n",
       " ':)',\n",
       " ':)',\n",
       " ';)',\n",
       " ':(',\n",
       " ';)',\n",
       " ':-/',\n",
       " ':)',\n",
       " ':)',\n",
       " ':)',\n",
       " ':)',\n",
       " ':)',\n",
       " ':(',\n",
       " ':(',\n",
       " ':(',\n",
       " ':)',\n",
       " '😘',\n",
       " ';)',\n",
       " ':)',\n",
       " ':)',\n",
       " ':-)',\n",
       " ';)',\n",
       " ':)',\n",
       " ':)',\n",
       " ':)',\n",
       " ';)',\n",
       " ':)',\n",
       " ':)',\n",
       " ':)',\n",
       " ':/',\n",
       " ':-)',\n",
       " ':)',\n",
       " ';)',\n",
       " ':(',\n",
       " ':)',\n",
       " ':)',\n",
       " ':)',\n",
       " ':@',\n",
       " ':)',\n",
       " ';)',\n",
       " ':)',\n",
       " ':)',\n",
       " ':)',\n",
       " ':(',\n",
       " ':/',\n",
       " ':-(',\n",
       " ':)',\n",
       " ':-)',\n",
       " ':)',\n",
       " ':)',\n",
       " ':(',\n",
       " ':)',\n",
       " ':)',\n",
       " ';)',\n",
       " ';)',\n",
       " ':)',\n",
       " ':)',\n",
       " ':)',\n",
       " ':)',\n",
       " ':)',\n",
       " ':-(',\n",
       " ':)',\n",
       " ';)',\n",
       " ':(',\n",
       " ':(',\n",
       " ':)',\n",
       " ':)',\n",
       " ':)',\n",
       " ':(',\n",
       " ';)',\n",
       " ':-)',\n",
       " ':-)',\n",
       " ':-)',\n",
       " ':-)',\n",
       " ':)',\n",
       " ';)',\n",
       " ':)',\n",
       " '=)',\n",
       " ';)',\n",
       " ':/',\n",
       " ';)',\n",
       " ':-)',\n",
       " ':3',\n",
       " ':@',\n",
       " ':(',\n",
       " ';)',\n",
       " ':)',\n",
       " ':)',\n",
       " ':)',\n",
       " ';)',\n",
       " ':-/',\n",
       " ':(',\n",
       " ':)',\n",
       " ':)',\n",
       " ':)',\n",
       " ':/',\n",
       " ':-(',\n",
       " ':)',\n",
       " ':)',\n",
       " ':)',\n",
       " ':)',\n",
       " ':)',\n",
       " ';)',\n",
       " ':(',\n",
       " ':)',\n",
       " ':)',\n",
       " ';)',\n",
       " ':)',\n",
       " ':)',\n",
       " ':)',\n",
       " ':)',\n",
       " ':)',\n",
       " ';)',\n",
       " ':/',\n",
       " ':)',\n",
       " ':)',\n",
       " ':)',\n",
       " ';)',\n",
       " ':)',\n",
       " ';)',\n",
       " ':)',\n",
       " ';)',\n",
       " ':)',\n",
       " ':)',\n",
       " ':/',\n",
       " ':)',\n",
       " ';)',\n",
       " ':(',\n",
       " ':)',\n",
       " ';)',\n",
       " ':(',\n",
       " ':-(',\n",
       " ':-(',\n",
       " ':-(',\n",
       " ':)',\n",
       " ';)',\n",
       " ':-)',\n",
       " ':)',\n",
       " ':-/',\n",
       " ':)',\n",
       " ':/',\n",
       " ';)',\n",
       " ':)',\n",
       " ';)',\n",
       " ':)',\n",
       " ':)',\n",
       " ';)',\n",
       " ';)',\n",
       " ':)',\n",
       " ':-)',\n",
       " ':-)',\n",
       " ':)',\n",
       " ':(',\n",
       " ':)',\n",
       " ':(',\n",
       " ':(',\n",
       " ';)',\n",
       " ':-/',\n",
       " '😡',\n",
       " ':)',\n",
       " ';)',\n",
       " ';)',\n",
       " ';)',\n",
       " ':(',\n",
       " ':)',\n",
       " ':)',\n",
       " ':-)',\n",
       " ':)',\n",
       " ';)',\n",
       " ':)',\n",
       " ':)',\n",
       " ':(',\n",
       " ':(',\n",
       " '😜',\n",
       " ':)',\n",
       " ':-)',\n",
       " ':(',\n",
       " ':(',\n",
       " ':)',\n",
       " ':-(',\n",
       " ';)',\n",
       " ':3',\n",
       " ':)',\n",
       " ';)',\n",
       " ':-(',\n",
       " ';)',\n",
       " ':)',\n",
       " ':)',\n",
       " ':)',\n",
       " ':-)',\n",
       " ';)',\n",
       " ':-/',\n",
       " ':)',\n",
       " ':)',\n",
       " ':)',\n",
       " ':3',\n",
       " ';)',\n",
       " ':(',\n",
       " ':(',\n",
       " ';)',\n",
       " ':)',\n",
       " ':/',\n",
       " ':)',\n",
       " ':)',\n",
       " ':)',\n",
       " ':(',\n",
       " ':)',\n",
       " ':)',\n",
       " ':)',\n",
       " ':)',\n",
       " ':-/',\n",
       " ';)',\n",
       " ':)',\n",
       " ':)',\n",
       " ':-)',\n",
       " ':(',\n",
       " ':-)',\n",
       " ':)',\n",
       " ';)',\n",
       " ';)',\n",
       " ';)',\n",
       " ';)',\n",
       " ':-)',\n",
       " ':-)',\n",
       " ':-(',\n",
       " ':-(',\n",
       " ';)',\n",
       " ':)',\n",
       " ':/',\n",
       " ':(',\n",
       " ':)',\n",
       " ';)',\n",
       " ';)']"
      ]
     },
     "execution_count": 6,
     "metadata": {},
     "output_type": "execute_result"
    }
   ],
   "source": [
    "# How do emoticons look?\n",
    "[w for i, w in enumerate(just_words) if just_tags[i] == 'EMT']"
   ]
  },
  {
   "cell_type": "code",
   "execution_count": 7,
   "metadata": {
    "ExecuteTime": {
     "end_time": "2018-10-27T16:56:32.977013Z",
     "start_time": "2018-10-27T16:56:32.923152Z"
    }
   },
   "outputs": [
    {
     "data": {
      "text/plain": [
       "array(['EMT', 'EN', 'HI', 'UN'], dtype='<U3')"
      ]
     },
     "execution_count": 7,
     "metadata": {},
     "output_type": "execute_result"
    }
   ],
   "source": [
    "# The 4 possible tags we need to classifiy for\n",
    "np.unique(just_tags)"
   ]
  },
  {
   "cell_type": "code",
   "execution_count": 8,
   "metadata": {
    "ExecuteTime": {
     "end_time": "2018-10-27T16:56:33.010917Z",
     "start_time": "2018-10-27T16:56:32.984991Z"
    }
   },
   "outputs": [],
   "source": [
    "# Classifier that uses wordnet's dictionary\n",
    "def classify_dictionary(words):\n",
    "    preds = []\n",
    "    for w in words:\n",
    "        if wordnet.synsets(w):\n",
    "            preds.append('EN')\n",
    "            \n",
    "        elif re.search('[a-zA-Z]', w) == None:\n",
    "            preds.append('EMT')\n",
    "            \n",
    "        elif w in hin_dict:\n",
    "            preds.append('HI')\n",
    "        \n",
    "        else:\n",
    "            preds.append('UN')\n",
    "            \n",
    "    return preds"
   ]
  },
  {
   "cell_type": "code",
   "execution_count": 9,
   "metadata": {
    "ExecuteTime": {
     "end_time": "2018-10-27T16:57:02.228641Z",
     "start_time": "2018-10-27T16:56:33.012910Z"
    }
   },
   "outputs": [],
   "source": [
    "preds_dict = classify_dictionary(just_words)"
   ]
  },
  {
   "cell_type": "code",
   "execution_count": 10,
   "metadata": {
    "ExecuteTime": {
     "end_time": "2018-10-27T16:57:02.235597Z",
     "start_time": "2018-10-27T16:57:02.230579Z"
    }
   },
   "outputs": [],
   "source": [
    "def classification_acc(true_y, pred_y):\n",
    "    classified = [True for i in range(len(true_y)) if true_y[i] == pred_y[i]]\n",
    "    return (np.sum(classified)/len(true_y))*100"
   ]
  },
  {
   "cell_type": "code",
   "execution_count": 11,
   "metadata": {
    "ExecuteTime": {
     "end_time": "2018-10-27T16:57:02.283474Z",
     "start_time": "2018-10-27T16:57:02.237562Z"
    }
   },
   "outputs": [
    {
     "name": "stdout",
     "output_type": "stream",
     "text": [
      "Classification accuracy using just dictionaries is: 55.988719639346215 %\n"
     ]
    }
   ],
   "source": [
    "print ('Classification accuracy using just dictionaries is:', classification_acc(just_tags, preds_dict), '%')"
   ]
  }
 ],
 "metadata": {
  "kernelspec": {
   "display_name": "Python 3",
   "language": "python",
   "name": "python3"
  },
  "language_info": {
   "codemirror_mode": {
    "name": "ipython",
    "version": 3
   },
   "file_extension": ".py",
   "mimetype": "text/x-python",
   "name": "python",
   "nbconvert_exporter": "python",
   "pygments_lexer": "ipython3",
   "version": "3.6.4"
  },
  "latex_envs": {
   "LaTeX_envs_menu_present": true,
   "autoclose": false,
   "autocomplete": true,
   "bibliofile": "biblio.bib",
   "cite_by": "apalike",
   "current_citInitial": 1,
   "eqLabelWithNumbers": true,
   "eqNumInitial": 1,
   "hotkeys": {
    "equation": "Ctrl-E",
    "itemize": "Ctrl-I"
   },
   "labels_anchors": false,
   "latex_user_defs": false,
   "report_style_numbering": false,
   "user_envs_cfg": false
  }
 },
 "nbformat": 4,
 "nbformat_minor": 2
}
