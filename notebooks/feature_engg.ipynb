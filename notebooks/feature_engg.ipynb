{
 "cells": [
  {
   "cell_type": "code",
   "execution_count": 1,
   "metadata": {
    "ExecuteTime": {
     "end_time": "2018-11-24T19:46:11.589628Z",
     "start_time": "2018-11-24T19:45:56.076238Z"
    }
   },
   "outputs": [
    {
     "name": "stderr",
     "output_type": "stream",
     "text": [
      "C:\\Users\\Siddhesh Acharekar\\Anaconda3\\lib\\site-packages\\sklearn\\cross_validation.py:41: DeprecationWarning: This module was deprecated in version 0.18 in favor of the model_selection module into which all the refactored classes and functions are moved. Also note that the interface of the new CV iterators are different from that of this module. This module will be removed in 0.20.\n",
      "  \"This module will be removed in 0.20.\", DeprecationWarning)\n",
      "C:\\Users\\Siddhesh Acharekar\\Anaconda3\\lib\\site-packages\\sklearn\\grid_search.py:42: DeprecationWarning: This module was deprecated in version 0.18 in favor of the model_selection module into which all the refactored classes and functions are moved. This module will be removed in 0.20.\n",
      "  DeprecationWarning)\n"
     ]
    }
   ],
   "source": [
    "import numpy as np\n",
    "import pandas as pd\n",
    "import pickle\n",
    "from collections import defaultdict, Counter\n",
    "from sklearn.linear_model import LogisticRegression\n",
    "from sklearn.svm import SVC\n",
    "import arff\n",
    "from sklearn.model_selection import train_test_split\n",
    "\n",
    "from itertools import chain\n",
    "\n",
    "import nltk\n",
    "import sklearn\n",
    "import scipy.stats\n",
    "from sklearn.metrics import make_scorer\n",
    "from sklearn.model_selection import cross_val_score\n",
    "from sklearn.grid_search import RandomizedSearchCV\n",
    "\n",
    "import sklearn_crfsuite\n",
    "from sklearn_crfsuite import scorers\n",
    "from sklearn_crfsuite import metrics"
   ]
  },
  {
   "cell_type": "code",
   "execution_count": 2,
   "metadata": {
    "ExecuteTime": {
     "end_time": "2018-11-24T19:46:11.722048Z",
     "start_time": "2018-11-24T19:46:11.591893Z"
    }
   },
   "outputs": [],
   "source": [
    "# Load our data and try\n",
    "with open('modified_data/just_tags.txt', 'rb') as f:\n",
    "    just_tags = pickle.load(f)\n",
    "    \n",
    "with open('modified_data/just_words.txt', 'rb') as f:\n",
    "    just_words = pickle.load(f)"
   ]
  },
  {
   "cell_type": "code",
   "execution_count": 3,
   "metadata": {
    "ExecuteTime": {
     "end_time": "2018-11-24T19:46:11.787487Z",
     "start_time": "2018-11-24T19:46:11.722048Z"
    }
   },
   "outputs": [
    {
     "data": {
      "text/plain": [
       "array(['EMT', 'EN', 'HI', 'UN'], dtype='<U3')"
      ]
     },
     "execution_count": 3,
     "metadata": {},
     "output_type": "execute_result"
    }
   ],
   "source": [
    "np.unique(just_tags)"
   ]
  },
  {
   "cell_type": "code",
   "execution_count": 50,
   "metadata": {
    "ExecuteTime": {
     "end_time": "2018-10-31T23:46:22.532668Z",
     "start_time": "2018-10-31T23:46:22.498274Z"
    }
   },
   "outputs": [],
   "source": [
    "just_tags = np.array(just_tags).reshape(len(just_words),1)"
   ]
  },
  {
   "cell_type": "code",
   "execution_count": 63,
   "metadata": {
    "ExecuteTime": {
     "end_time": "2018-10-31T23:51:50.855518Z",
     "start_time": "2018-10-31T23:51:50.830274Z"
    }
   },
   "outputs": [],
   "source": [
    "def gen_features(data):\n",
    "# Generating features\n",
    "# Capitalization, length, suffixes \n",
    "    lens = [len(w) for w in data]\n",
    "\n",
    "    caps = [1 if w[0].isupper() else 0 for w in data]\n",
    "\n",
    "    num_caps = [sum([True for a in w if a.isupper()]) for w in data]\n",
    "\n",
    "    suffixes = [w[-3:] for w in data]\n",
    "\n",
    "    isdigit = [1 if w.isdigit() else 0 for w in data]\n",
    "    \n",
    "    feat_names = ['length', 'caps', 'num_caps', 'suffixes', 'isdigit']\n",
    "    features = [lens, caps, num_caps, suffixes, isdigit]\n",
    "\n",
    "#     features = pd.DataFrame(dict(zip(feat_names, features)))\n",
    "    \n",
    "    return(list(zip(lens, caps, num_caps, suffixes, isdigit)))\n",
    "    \n",
    "#     return (features)"
   ]
  },
  {
   "cell_type": "code",
   "execution_count": 81,
   "metadata": {
    "ExecuteTime": {
     "end_time": "2018-11-01T02:22:47.977084Z",
     "start_time": "2018-11-01T02:22:47.970131Z"
    }
   },
   "outputs": [
    {
     "data": {
      "text/plain": [
       "201412"
      ]
     },
     "execution_count": 81,
     "metadata": {},
     "output_type": "execute_result"
    }
   ],
   "source": [
    "len(just_words)"
   ]
  },
  {
   "cell_type": "code",
   "execution_count": 52,
   "metadata": {
    "ExecuteTime": {
     "end_time": "2018-10-31T23:46:23.379456Z",
     "start_time": "2018-10-31T23:46:23.299135Z"
    }
   },
   "outputs": [],
   "source": [
    "# Create train test split\n",
    "words_train, words_test, tags_train, tags_test = train_test_split(just_words, just_tags, random_state = 42, test_size = 0.2)"
   ]
  },
  {
   "cell_type": "code",
   "execution_count": 77,
   "metadata": {
    "ExecuteTime": {
     "end_time": "2018-11-01T00:11:13.823761Z",
     "start_time": "2018-11-01T00:11:13.014841Z"
    }
   },
   "outputs": [],
   "source": [
    "features_train = [list(i) for i in gen_features(words_train)]\n",
    "features_test = gen_features(words_test)"
   ]
  },
  {
   "cell_type": "code",
   "execution_count": 78,
   "metadata": {
    "ExecuteTime": {
     "end_time": "2018-11-01T00:11:17.332741Z",
     "start_time": "2018-11-01T00:11:17.327722Z"
    }
   },
   "outputs": [
    {
     "data": {
      "text/plain": [
       "[1, 0, 0, 'i', 0]"
      ]
     },
     "execution_count": 78,
     "metadata": {},
     "output_type": "execute_result"
    }
   ],
   "source": [
    "features_train[0]"
   ]
  },
  {
   "cell_type": "code",
   "execution_count": null,
   "metadata": {},
   "outputs": [],
   "source": []
  },
  {
   "cell_type": "code",
   "execution_count": 55,
   "metadata": {
    "ExecuteTime": {
     "end_time": "2018-10-31T23:46:30.232286Z",
     "start_time": "2018-10-31T23:46:30.227175Z"
    }
   },
   "outputs": [
    {
     "data": {
      "text/plain": [
       "(161129, 5)"
      ]
     },
     "execution_count": 55,
     "metadata": {},
     "output_type": "execute_result"
    }
   ],
   "source": [
    "features_train.shape"
   ]
  },
  {
   "cell_type": "code",
   "execution_count": 34,
   "metadata": {
    "ExecuteTime": {
     "end_time": "2018-10-31T23:30:27.499720Z",
     "start_time": "2018-10-31T23:30:27.495277Z"
    }
   },
   "outputs": [
    {
     "data": {
      "text/plain": [
       "(161129, 1)"
      ]
     },
     "execution_count": 34,
     "metadata": {},
     "output_type": "execute_result"
    }
   ],
   "source": [
    "tags_train.shape"
   ]
  },
  {
   "cell_type": "markdown",
   "metadata": {},
   "source": [
    "## Test CRF fit"
   ]
  },
  {
   "cell_type": "code",
   "execution_count": 79,
   "metadata": {
    "ExecuteTime": {
     "end_time": "2018-11-01T00:11:21.587625Z",
     "start_time": "2018-11-01T00:11:21.579926Z"
    }
   },
   "outputs": [
    {
     "name": "stdout",
     "output_type": "stream",
     "text": [
      "Wall time: 0 ns\n"
     ]
    }
   ],
   "source": [
    "%%time\n",
    "crf = sklearn_crfsuite.CRF(\n",
    "    algorithm='l2sgd', \n",
    "#     c1=0.1, \n",
    "    c2=0.1, \n",
    "    max_iterations=100, \n",
    "    all_possible_transitions=True\n",
    ")"
   ]
  },
  {
   "cell_type": "code",
   "execution_count": 80,
   "metadata": {
    "ExecuteTime": {
     "end_time": "2018-11-01T00:11:21.988700Z",
     "start_time": "2018-11-01T00:11:21.927238Z"
    }
   },
   "outputs": [
    {
     "ename": "TypeError",
     "evalue": "object of type 'int' has no len()",
     "output_type": "error",
     "traceback": [
      "\u001b[1;31m---------------------------------------------------------------------------\u001b[0m",
      "\u001b[1;31mTypeError\u001b[0m                                 Traceback (most recent call last)",
      "\u001b[1;32m<ipython-input-80-046e44c8401d>\u001b[0m in \u001b[0;36m<module>\u001b[1;34m()\u001b[0m\n\u001b[1;32m----> 1\u001b[1;33m \u001b[0mcrf\u001b[0m\u001b[1;33m.\u001b[0m\u001b[0mfit\u001b[0m\u001b[1;33m(\u001b[0m\u001b[0mfeatures_train\u001b[0m\u001b[1;33m,\u001b[0m \u001b[0mtags_train\u001b[0m\u001b[1;33m)\u001b[0m\u001b[1;33m\u001b[0m\u001b[0m\n\u001b[0m",
      "\u001b[1;32m~\\Anaconda3\\lib\\site-packages\\sklearn_crfsuite\\estimator.py\u001b[0m in \u001b[0;36mfit\u001b[1;34m(self, X, y, X_dev, y_dev)\u001b[0m\n\u001b[0;32m    312\u001b[0m \u001b[1;33m\u001b[0m\u001b[0m\n\u001b[0;32m    313\u001b[0m         \u001b[1;32mfor\u001b[0m \u001b[0mxseq\u001b[0m\u001b[1;33m,\u001b[0m \u001b[0myseq\u001b[0m \u001b[1;32min\u001b[0m \u001b[0mtrain_data\u001b[0m\u001b[1;33m:\u001b[0m\u001b[1;33m\u001b[0m\u001b[0m\n\u001b[1;32m--> 314\u001b[1;33m             \u001b[0mtrainer\u001b[0m\u001b[1;33m.\u001b[0m\u001b[0mappend\u001b[0m\u001b[1;33m(\u001b[0m\u001b[0mxseq\u001b[0m\u001b[1;33m,\u001b[0m \u001b[0myseq\u001b[0m\u001b[1;33m)\u001b[0m\u001b[1;33m\u001b[0m\u001b[0m\n\u001b[0m\u001b[0;32m    315\u001b[0m \u001b[1;33m\u001b[0m\u001b[0m\n\u001b[0;32m    316\u001b[0m         \u001b[1;32mif\u001b[0m \u001b[0mself\u001b[0m\u001b[1;33m.\u001b[0m\u001b[0mverbose\u001b[0m\u001b[1;33m:\u001b[0m\u001b[1;33m\u001b[0m\u001b[0m\n",
      "\u001b[1;32mpycrfsuite\\_pycrfsuite.pyx\u001b[0m in \u001b[0;36mpycrfsuite._pycrfsuite.BaseTrainer.append\u001b[1;34m()\u001b[0m\n",
      "\u001b[1;32m~\\Anaconda3\\lib\\site-packages\\pycrfsuite\\_pycrfsuite.cp36-win_amd64.pyd\u001b[0m in \u001b[0;36mvector.from_py.__pyx_convert_vector_from_py_std_3a__3a_string\u001b[1;34m()\u001b[0m\n",
      "\u001b[1;32m~\\Anaconda3\\lib\\site-packages\\pycrfsuite\\_pycrfsuite.cp36-win_amd64.pyd\u001b[0m in \u001b[0;36mvector.from_py.__pyx_convert_vector_from_py_std_3a__3a_string\u001b[1;34m()\u001b[0m\n",
      "\u001b[1;31mTypeError\u001b[0m: object of type 'int' has no len()"
     ]
    }
   ],
   "source": [
    "crf.fit(features_train, tags_train)"
   ]
  },
  {
   "cell_type": "code",
   "execution_count": 77,
   "metadata": {
    "ExecuteTime": {
     "end_time": "2018-10-30T23:01:43.574737Z",
     "start_time": "2018-10-30T23:01:43.559682Z"
    }
   },
   "outputs": [],
   "source": [
    "features['target'] = just_tags"
   ]
  },
  {
   "cell_type": "code",
   "execution_count": 83,
   "metadata": {
    "ExecuteTime": {
     "end_time": "2018-10-31T01:39:16.337269Z",
     "start_time": "2018-10-31T01:39:16.281896Z"
    }
   },
   "outputs": [],
   "source": [
    "features['suffixes'] = features.suffixes.astype('category')"
   ]
  },
  {
   "cell_type": "code",
   "execution_count": 89,
   "metadata": {
    "ExecuteTime": {
     "end_time": "2018-10-31T01:39:56.244157Z",
     "start_time": "2018-10-31T01:39:56.239382Z"
    }
   },
   "outputs": [
    {
     "data": {
      "text/plain": [
       "str"
      ]
     },
     "execution_count": 89,
     "metadata": {},
     "output_type": "execute_result"
    }
   ],
   "source": [
    "features['suffixes'][0]"
   ]
  },
  {
   "cell_type": "code",
   "execution_count": 90,
   "metadata": {
    "ExecuteTime": {
     "end_time": "2018-10-31T01:40:05.791948Z",
     "start_time": "2018-10-31T01:40:03.995599Z"
    }
   },
   "outputs": [],
   "source": [
    "# Save as ARFF file\n",
    "arff.dump('word_features.arff'\n",
    "      , features.values\n",
    "      , relation = 'TrainFeatures'\n",
    "      , names=features.columns)"
   ]
  },
  {
   "cell_type": "code",
   "execution_count": 91,
   "metadata": {
    "ExecuteTime": {
     "end_time": "2018-10-31T01:44:04.378042Z",
     "start_time": "2018-10-31T01:44:04.366972Z"
    }
   },
   "outputs": [
    {
     "name": "stdout",
     "output_type": "stream",
     "text": [
      "length\n",
      "caps\n",
      "num_caps\n",
      "suffixes\n",
      "isdigit\n",
      "target\n"
     ]
    }
   ],
   "source": [
    "for f in features:\n",
    "    print(f)"
   ]
  },
  {
   "cell_type": "code",
   "execution_count": 96,
   "metadata": {
    "ExecuteTime": {
     "end_time": "2018-10-31T01:48:05.001434Z",
     "start_time": "2018-10-31T01:48:04.961962Z"
    }
   },
   "outputs": [
    {
     "ename": "TypeError",
     "evalue": "sequence item 0: expected str instance, int found",
     "output_type": "error",
     "traceback": [
      "\u001b[1;31m---------------------------------------------------------------------------\u001b[0m",
      "\u001b[1;31mTypeError\u001b[0m                                 Traceback (most recent call last)",
      "\u001b[1;32m<ipython-input-96-07dad75761d8>\u001b[0m in \u001b[0;36m<module>\u001b[1;34m()\u001b[0m\n\u001b[1;32m----> 1\u001b[1;33m \u001b[1;34m' '\u001b[0m\u001b[1;33m.\u001b[0m\u001b[0mjoin\u001b[0m\u001b[1;33m(\u001b[0m\u001b[1;33m[\u001b[0m\u001b[0mw\u001b[0m \u001b[1;32mfor\u001b[0m \u001b[0mw\u001b[0m \u001b[1;32min\u001b[0m \u001b[0mfeatures\u001b[0m\u001b[1;33m[\u001b[0m\u001b[1;34m'length'\u001b[0m\u001b[1;33m]\u001b[0m\u001b[1;33m]\u001b[0m\u001b[1;33m)\u001b[0m\u001b[1;33m\u001b[0m\u001b[0m\n\u001b[0m",
      "\u001b[1;31mTypeError\u001b[0m: sequence item 0: expected str instance, int found"
     ]
    }
   ],
   "source": [
    "' '.join([w for w in features['length']])"
   ]
  },
  {
   "cell_type": "code",
   "execution_count": 100,
   "metadata": {
    "ExecuteTime": {
     "end_time": "2018-10-31T01:48:59.724830Z",
     "start_time": "2018-10-31T01:48:59.206755Z"
    }
   },
   "outputs": [
    {
     "name": "stdout",
     "output_type": "stream",
     "text": [
      "length\n",
      "caps\n",
      "num_caps\n",
      "suffixes\n",
      "isdigit\n",
      "target\n"
     ]
    }
   ],
   "source": [
    "file_to_write = '@relation TrainFeature\\n'\n",
    "for f in features:\n",
    "    print(f)\n",
    "    file_to_write += '@attribute ' + f\n",
    "    line = ' '.join([str(w) for w in features[f]]) + '\\n'\n",
    "    \n",
    "    file_to_write += line"
   ]
  },
  {
   "cell_type": "code",
   "execution_count": 111,
   "metadata": {
    "ExecuteTime": {
     "end_time": "2018-10-31T02:05:22.462733Z",
     "start_time": "2018-10-31T02:05:22.199059Z"
    }
   },
   "outputs": [],
   "source": [
    "with open('temp.txt', 'w+', encoding='utf-8') as f:\n",
    "    f.write(','.join(['\\''+str(w)+'\\'' for w in list(np.unique(features['suffixes']))]))"
   ]
  },
  {
   "cell_type": "code",
   "execution_count": 70,
   "metadata": {
    "ExecuteTime": {
     "end_time": "2018-10-30T22:38:28.005396Z",
     "start_time": "2018-10-30T22:38:26.347179Z"
    }
   },
   "outputs": [],
   "source": [
    "# Save as CSV\n",
    "features.to_csv('word_features.csv')"
   ]
  },
  {
   "cell_type": "code",
   "execution_count": 56,
   "metadata": {
    "ExecuteTime": {
     "end_time": "2018-10-30T22:09:19.872524Z",
     "start_time": "2018-10-30T22:09:00.393984Z"
    }
   },
   "outputs": [],
   "source": [
    "ohe_features = pd.get_dummies(features)"
   ]
  },
  {
   "cell_type": "code",
   "execution_count": 59,
   "metadata": {
    "ExecuteTime": {
     "end_time": "2018-10-30T22:10:38.474946Z",
     "start_time": "2018-10-30T22:10:38.465120Z"
    }
   },
   "outputs": [
    {
     "data": {
      "text/plain": [
       "(201412, 6346)"
      ]
     },
     "execution_count": 59,
     "metadata": {},
     "output_type": "execute_result"
    }
   ],
   "source": [
    "ohe_features.shape"
   ]
  },
  {
   "cell_type": "code",
   "execution_count": 82,
   "metadata": {
    "ExecuteTime": {
     "end_time": "2018-10-31T01:21:57.942854Z",
     "start_time": "2018-10-31T01:21:57.888101Z"
    }
   },
   "outputs": [
    {
     "data": {
      "text/plain": [
       "length      0\n",
       "caps        0\n",
       "num_caps    0\n",
       "suffixes    0\n",
       "isdigit     0\n",
       "target      0\n",
       "dtype: int64"
      ]
     },
     "execution_count": 82,
     "metadata": {},
     "output_type": "execute_result"
    }
   ],
   "source": [
    "np.sum(features.isna())"
   ]
  },
  {
   "cell_type": "code",
   "execution_count": 61,
   "metadata": {
    "ExecuteTime": {
     "end_time": "2018-10-30T22:20:23.995182Z",
     "start_time": "2018-10-30T22:20:21.328902Z"
    }
   },
   "outputs": [
    {
     "data": {
      "text/plain": [
       "LogisticRegression(C=1.0, class_weight=None, dual=False, fit_intercept=True,\n",
       "          intercept_scaling=1, max_iter=100, multi_class='ovr', n_jobs=1,\n",
       "          penalty='l2', random_state=None, solver='liblinear', tol=0.0001,\n",
       "          verbose=0, warm_start=False)"
      ]
     },
     "execution_count": 61,
     "metadata": {},
     "output_type": "execute_result"
    }
   ],
   "source": [
    "logreg_model = LogisticRegression()\n",
    "logreg_model.fit(features.drop(columns = ['suffixes']), just_tags)"
   ]
  },
  {
   "cell_type": "code",
   "execution_count": 62,
   "metadata": {
    "ExecuteTime": {
     "end_time": "2018-10-30T22:20:34.965770Z",
     "start_time": "2018-10-30T22:20:34.707010Z"
    }
   },
   "outputs": [
    {
     "data": {
      "text/plain": [
       "0.5740124719480468"
      ]
     },
     "execution_count": 62,
     "metadata": {},
     "output_type": "execute_result"
    }
   ],
   "source": [
    "logreg_model.score(features.drop(columns = ['suffixes']), just_tags)"
   ]
  },
  {
   "cell_type": "code",
   "execution_count": null,
   "metadata": {
    "ExecuteTime": {
     "end_time": "2018-10-30T22:09:58.507802Z",
     "start_time": "2018-10-30T22:09:52.122Z"
    }
   },
   "outputs": [],
   "source": [
    "svc_model = SVC()\n",
    "svc_model.fit(ohe_features, just_tags)"
   ]
  },
  {
   "cell_type": "code",
   "execution_count": null,
   "metadata": {},
   "outputs": [],
   "source": []
  }
 ],
 "metadata": {
  "kernelspec": {
   "display_name": "Python 3",
   "language": "python",
   "name": "python3"
  },
  "language_info": {
   "codemirror_mode": {
    "name": "ipython",
    "version": 3
   },
   "file_extension": ".py",
   "mimetype": "text/x-python",
   "name": "python",
   "nbconvert_exporter": "python",
   "pygments_lexer": "ipython3",
   "version": "3.6.4"
  },
  "latex_envs": {
   "LaTeX_envs_menu_present": true,
   "autoclose": false,
   "autocomplete": true,
   "bibliofile": "biblio.bib",
   "cite_by": "apalike",
   "current_citInitial": 1,
   "eqLabelWithNumbers": true,
   "eqNumInitial": 1,
   "hotkeys": {
    "equation": "Ctrl-E",
    "itemize": "Ctrl-I"
   },
   "labels_anchors": false,
   "latex_user_defs": false,
   "report_style_numbering": false,
   "user_envs_cfg": false
  }
 },
 "nbformat": 4,
 "nbformat_minor": 2
}
